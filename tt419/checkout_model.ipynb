{
 "metadata": {
  "language_info": {
   "codemirror_mode": {
    "name": "ipython",
    "version": 3
   },
   "file_extension": ".py",
   "mimetype": "text/x-python",
   "name": "python",
   "nbconvert_exporter": "python",
   "pygments_lexer": "ipython3",
   "version": "3.7.7"
  },
  "orig_nbformat": 2,
  "kernelspec": {
   "name": "python377jvsc74a57bd07b743614e6352f6229ba39de15c30fb66e716f36282ea64779d8160999166bf5",
   "display_name": "Python 3.7.7 64-bit ('phdeep': conda)"
  },
  "metadata": {
   "interpreter": {
    "hash": "5d32409658dae9cfb02eb9d410c8759b26acd469b2308de5274da5e5ae9c776e"
   }
  }
 },
 "nbformat": 4,
 "nbformat_minor": 2,
 "cells": [
  {
   "cell_type": "code",
   "execution_count": 1,
   "metadata": {},
   "outputs": [],
   "source": [
    "import torch\n",
    "import os\n",
    "import datetime\n",
    "\n",
    "%matplotlib inline\n",
    "\n",
    "from selene_sdk.utils import load_path\n",
    "from selene_sdk.utils import parse_configs_and_run\n",
    "from selene_sdk.utils import DeeperDeepSEA\n",
    "from selene_sdk.predict._common import predict\n",
    "from selene_sdk.utils import load_features_list"
   ]
  },
  {
   "cell_type": "code",
   "execution_count": 2,
   "metadata": {},
   "outputs": [],
   "source": [
    "import sys\n",
    "\n",
    "import numpy as np\n",
    "import pandas as pd\n",
    "import tensorflow as tf\n",
    "import h5py\n",
    "from scipy.io import loadmat"
   ]
  },
  {
   "cell_type": "code",
   "execution_count": 3,
   "metadata": {},
   "outputs": [],
   "source": [
    "sys.path.insert(1,'/home/tt419/Projects/DeepLearning/')\n",
    "import PhDeep.config.log_conf as log_conf\n",
    "import PhDeep.models.deepsea_fyr.model as fyr\n",
    "from PhDeep.data_loader.deepsea.data_loader import DataManager"
   ]
  },
  {
   "cell_type": "code",
   "execution_count": 11,
   "metadata": {},
   "outputs": [
    {
     "output_type": "error",
     "ename": "FileNotFoundError",
     "evalue": "[Errno 2] No such file or directory: '/rds-d5/project/who1000/rds-who1000-wgs10k/user/tt419/Epigenome/output_encode_fold/encode_meta1_features.txt '",
     "traceback": [
      "\u001b[0;31m---------------------------------------------------------------------------\u001b[0m",
      "\u001b[0;31mFileNotFoundError\u001b[0m                         Traceback (most recent call last)",
      "\u001b[0;32m<ipython-input-11-f54c9a2a7a12>\u001b[0m in \u001b[0;36m<module>\u001b[0;34m\u001b[0m\n\u001b[0;32m----> 1\u001b[0;31m \u001b[0mfeatures_504\u001b[0m \u001b[0;34m=\u001b[0m \u001b[0mload_features_list\u001b[0m\u001b[0;34m(\u001b[0m\u001b[0;34m\"/rds-d5/project/who1000/rds-who1000-wgs10k/user/tt419/Epigenome/output_encode_fold/encode_meta1_features.txt \"\u001b[0m\u001b[0;34m)\u001b[0m\u001b[0;34m\u001b[0m\u001b[0;34m\u001b[0m\u001b[0m\n\u001b[0m\u001b[1;32m      2\u001b[0m \u001b[0mfeatures_919\u001b[0m \u001b[0;34m=\u001b[0m \u001b[0mload_features_list\u001b[0m\u001b[0;34m(\u001b[0m\u001b[0;34m\"/rds-d5/user/tt419/hpc-work/data-storage/DeepSea_orig_data/deepsea_train/label_names.txt\"\u001b[0m\u001b[0;34m)\u001b[0m\u001b[0;34m\u001b[0m\u001b[0;34m\u001b[0m\u001b[0m\n\u001b[1;32m      3\u001b[0m \u001b[0mfeatures_1846\u001b[0m \u001b[0;34m=\u001b[0m \u001b[0mload_features_list\u001b[0m\u001b[0;34m(\u001b[0m\u001b[0;34m\"/rds-d5/project/who1000/rds-who1000-wgs10k/user/tt419/Epigenome/Selene_data/selene_ftp_output/distinct_1846_features.txt\"\u001b[0m\u001b[0;34m)\u001b[0m\u001b[0;34m\u001b[0m\u001b[0;34m\u001b[0m\u001b[0m\n",
      "\u001b[0;32m~/.conda/envs/phdeep/lib/python3.7/site-packages/selene_sdk/utils/utils.py\u001b[0m in \u001b[0;36mload_features_list\u001b[0;34m(input_path)\u001b[0m\n\u001b[1;32m    162\u001b[0m     \"\"\"\n\u001b[1;32m    163\u001b[0m     \u001b[0mfeatures\u001b[0m \u001b[0;34m=\u001b[0m \u001b[0;34m[\u001b[0m\u001b[0;34m]\u001b[0m\u001b[0;34m\u001b[0m\u001b[0;34m\u001b[0m\u001b[0m\n\u001b[0;32m--> 164\u001b[0;31m     \u001b[0;32mwith\u001b[0m \u001b[0mopen\u001b[0m\u001b[0;34m(\u001b[0m\u001b[0minput_path\u001b[0m\u001b[0;34m,\u001b[0m \u001b[0;34m'r'\u001b[0m\u001b[0;34m)\u001b[0m \u001b[0;32mas\u001b[0m \u001b[0mfile_handle\u001b[0m\u001b[0;34m:\u001b[0m\u001b[0;34m\u001b[0m\u001b[0;34m\u001b[0m\u001b[0m\n\u001b[0m\u001b[1;32m    165\u001b[0m         \u001b[0;32mfor\u001b[0m \u001b[0mline\u001b[0m \u001b[0;32min\u001b[0m \u001b[0mfile_handle\u001b[0m\u001b[0;34m:\u001b[0m\u001b[0;34m\u001b[0m\u001b[0;34m\u001b[0m\u001b[0m\n\u001b[1;32m    166\u001b[0m             \u001b[0mfeatures\u001b[0m\u001b[0;34m.\u001b[0m\u001b[0mappend\u001b[0m\u001b[0;34m(\u001b[0m\u001b[0mline\u001b[0m\u001b[0;34m.\u001b[0m\u001b[0mstrip\u001b[0m\u001b[0;34m(\u001b[0m\u001b[0;34m)\u001b[0m\u001b[0;34m)\u001b[0m\u001b[0;34m\u001b[0m\u001b[0;34m\u001b[0m\u001b[0m\n",
      "\u001b[0;31mFileNotFoundError\u001b[0m: [Errno 2] No such file or directory: '/rds-d5/project/who1000/rds-who1000-wgs10k/user/tt419/Epigenome/output_encode_fold/encode_meta1_features.txt '"
     ]
    }
   ],
   "source": [
    "features_504 = load_features_list(\"/rds-d5/project/who1000/rds-who1000-wgs10k/user/tt419/Epigenome/output_encode_fold/encode_meta1_features.txt\")\n",
    "features_919 = load_features_list(\"/rds-d5/user/tt419/hpc-work/data-storage/DeepSea_orig_data/deepsea_train/label_names.txt\")\n",
    "features_1846 = load_features_list(\"/rds-d5/project/who1000/rds-who1000-wgs10k/user/tt419/Epigenome/Selene_data/selene_ftp_output/distinct_1846_features.txt\")"
   ]
  },
  {
   "cell_type": "code",
   "execution_count": null,
   "metadata": {},
   "outputs": [],
   "source": [
    "train_919 = \"/home/tt419/Projects/DeepLearning/DeepSea_data/deepsea_train/train.mat\"\n",
    "test_919 = \"/home/tt419/Projects/DeepLearning/DeepSea_data/deepsea_train/test.mat\"\n",
    "valid_919 = \"/home/tt419/Projects/DeepLearning/DeepSea_data/deepsea_train/valid.mat\"\n",
    "\n",
    "data_504 = \"/rds-d5/project/who1000/rds-who1000-wgs10k/user/tt419/Epigenome/output_encode_fold/encode_meta1_sorted.bed.gz\"\n",
    "data_1846 = \"/rds-d5/project/who1000/rds-who1000-wgs10k/user/tt419/Epigenome/Selene_data/selene_ftp_output/sorted_selene_fullFeatures.bed.gz\"\n"
   ]
  },
  {
   "cell_type": "code",
   "execution_count": 12,
   "metadata": {},
   "outputs": [],
   "source": [
    "model_504_path = \"/rds-d5/project/who1000/rds-who1000-wgs10k/user/tt419/Epigenome/output_encode_fold/logs/online_sampler_outputs_503_v1_r1/best_model.pth.tar\"\n",
    "#different file-type, as it was run with TF instead of PyTorch\n",
    "model_919_path = \"/rds-d5/user/tt419/hpc-work/data-storage/PhDeep_logs/DeepSea_ckpt/modelCheckpoint-0.05066-4-99.h5\"\n",
    "model_1846_path = \"/rds-d5/project/who1000/rds-who1000-wgs10k/user/tt419/Epigenome/Selene_data/selene_ftp_output/logs/online_sampler_outputs_base/best_model.pth.tar\""
   ]
  },
  {
   "source": [
    "# Load model architectures for Selene models"
   ],
   "cell_type": "markdown",
   "metadata": {}
  },
  {
   "cell_type": "code",
   "execution_count": null,
   "metadata": {},
   "outputs": [],
   "source": [
    "from selene_sdk.utils import NonStrandSpecific\n",
    "\n",
    "\n",
    "model_arch_504 = NonStrandSpecific(DeeperDeepSEA(2000, 504))\n",
    "model_arch_1846 = NonStrandSpecific(DeeperDeepSEA(2000, 1846))\n"
   ]
  },
  {
   "cell_type": "code",
   "execution_count": null,
   "metadata": {},
   "outputs": [],
   "source": [
    "from selene_sdk.predict import AnalyzeSequences\n",
    "from selene_sdk.utils import load_features_list\n",
    "\n",
    "analysis_504 = AnalyzeSequences(\n",
    "    model_arch_504,\n",
    "    model_504_path,\n",
    "    sequence_length=2000,\n",
    "    features=features_504,\n",
    "    use_cuda=False)\n",
    "\n",
    "analysis_1846 = AnalyzeSequences(\n",
    "    model_arch_1846,\n",
    "    model_1846_path,\n",
    "    sequence_length=2000,\n",
    "    features=features_1846,\n",
    "    use_cuda=False)"
   ]
  },
  {
   "source": [
    "# Load model for PhDeep"
   ],
   "cell_type": "markdown",
   "metadata": {}
  },
  {
   "cell_type": "code",
   "execution_count": 40,
   "metadata": {},
   "outputs": [
    {
     "output_type": "stream",
     "name": "stdout",
     "text": [
      "Num GPUs Available: 0 ;\n namely: []\n"
     ]
    }
   ],
   "source": [
    "local = False\n",
    "load = True\n",
    "tf.debugging.set_log_device_placement(True)\n",
    "\n",
    "avail_gpus = tf.config.list_physical_devices('GPU')\n",
    "no_avail_gpus = len(tf.config.list_physical_devices('GPU'))\n",
    "print(\"Num GPUs Available: {} ;\\n namely: {}\".format(no_avail_gpus, avail_gpus))\n",
    "for gpu in avail_gpus:\n",
    "    tf.config.experimental.set_memory_growth(gpu, True)\n",
    "\n",
    "lc = log_conf.LogConfig(\"/home/tt419/Projects/DeepLearning/PhDeep/logs/\", \"DeepSea_ckpt/\")\n",
    "mm = fyr.DeepSeaModel(sub_version=0.0, log_config=lc)\n",
    "dm = DataManager()"
   ]
  },
  {
   "cell_type": "code",
   "execution_count": 42,
   "metadata": {},
   "outputs": [
    {
     "output_type": "stream",
     "name": "stdout",
     "text": [
      "set_best_checkpoint -> val: -1\n"
     ]
    },
    {
     "output_type": "error",
     "ename": "NameError",
     "evalue": "name 'model_919_path' is not defined",
     "traceback": [
      "\u001b[0;31m---------------------------------------------------------------------------\u001b[0m",
      "\u001b[0;31mNameError\u001b[0m                                 Traceback (most recent call last)",
      "\u001b[0;32m<ipython-input-42-23330def5d38>\u001b[0m in \u001b[0;36m<module>\u001b[0;34m\u001b[0m\n\u001b[1;32m      3\u001b[0m     \u001b[0;32mif\u001b[0m \u001b[0mlc\u001b[0m\u001b[0;34m.\u001b[0m\u001b[0mBEST_CHECKPOINT\u001b[0m \u001b[0;34m==\u001b[0m \u001b[0;34m-\u001b[0m\u001b[0;36m1\u001b[0m\u001b[0;34m:\u001b[0m\u001b[0;34m\u001b[0m\u001b[0;34m\u001b[0m\u001b[0m\n\u001b[1;32m      4\u001b[0m         \u001b[0mmm\u001b[0m\u001b[0;34m.\u001b[0m\u001b[0mbuild_model\u001b[0m\u001b[0;34m(\u001b[0m\u001b[0;34m)\u001b[0m\u001b[0;34m\u001b[0m\u001b[0;34m\u001b[0m\u001b[0m\n\u001b[0;32m----> 5\u001b[0;31m         \u001b[0mload_fp\u001b[0m \u001b[0;34m=\u001b[0m \u001b[0mmodel_919_path\u001b[0m\u001b[0;34m\u001b[0m\u001b[0;34m\u001b[0m\u001b[0m\n\u001b[0m\u001b[1;32m      6\u001b[0m         \u001b[0mprint\u001b[0m\u001b[0;34m(\u001b[0m\u001b[0;34m\"Load failed, no checkpoint found\"\u001b[0m\u001b[0;34m)\u001b[0m\u001b[0;34m\u001b[0m\u001b[0;34m\u001b[0m\u001b[0m\n\u001b[1;32m      7\u001b[0m     \u001b[0;32melse\u001b[0m\u001b[0;34m:\u001b[0m\u001b[0;34m\u001b[0m\u001b[0;34m\u001b[0m\u001b[0m\n",
      "\u001b[0;31mNameError\u001b[0m: name 'model_919_path' is not defined"
     ]
    }
   ],
   "source": [
    "if load:\n",
    "    lc.set_best_checkpoint(mm.MODEL_VERSION)\n",
    "    if lc.BEST_CHECKPOINT == -1:\n",
    "        mm.build_model()\n",
    "        load_fp = model_919_path\n",
    "        print(\"Load failed, no checkpoint found\")\n",
    "    else:\n",
    "        load_fp = lc.CHECKPOINT_DIR + lc.BEST_CHECKPOINT\n",
    "        mm.load_model(fp=load_fp)\n",
    "        print(f\"Model loaded from {load_fp}\")\n",
    "else:\n",
    "    load_fp = None\n",
    "\n",
    "model = mm.compile_model(multi_gpu=no_avail_gpus>1 ,load_fp=load_fp)\n",
    "model.summary()"
   ]
  },
  {
   "source": [
    "# Load test data\n",
    "This data can be used for prediction and put into the \"visualize_roc_curves\" function of the utils/performance_metrics.py  "
   ],
   "cell_type": "markdown",
   "metadata": {}
  },
  {
   "cell_type": "code",
   "execution_count": null,
   "metadata": {},
   "outputs": [],
   "source": [
    "dm = DataManager()\n",
    "val_x, val_y = dm.read_val_data()"
   ]
  }
 ]
}