{
 "metadata": {
  "language_info": {
   "codemirror_mode": {
    "name": "ipython",
    "version": 3
   },
   "file_extension": ".py",
   "mimetype": "text/x-python",
   "name": "python",
   "nbconvert_exporter": "python",
   "pygments_lexer": "ipython3",
   "version": "3.7.7"
  },
  "orig_nbformat": 2,
  "kernelspec": {
   "name": "python377jvsc74a57bd07b743614e6352f6229ba39de15c30fb66e716f36282ea64779d8160999166bf5",
   "display_name": "Python 3.7.7 64-bit ('phdeep': conda)"
  },
  "metadata": {
   "interpreter": {
    "hash": "5d32409658dae9cfb02eb9d410c8759b26acd469b2308de5274da5e5ae9c776e"
   }
  }
 },
 "nbformat": 4,
 "nbformat_minor": 2,
 "cells": [
  {
   "cell_type": "code",
   "execution_count": 2,
   "metadata": {},
   "outputs": [],
   "source": [
    "import torch\n",
    "import os\n",
    "import datetime\n",
    "\n",
    "%matplotlib inline\n",
    "\n",
    "from selene_sdk.utils import load_path\n",
    "from selene_sdk.utils import parse_configs_and_run\n",
    "from selene_sdk.utils import DeeperDeepSEA\n",
    "from selene_sdk.predict._common import predict\n",
    "from selene_sdk.utils import load_features_list"
   ]
  },
  {
   "cell_type": "code",
   "execution_count": 3,
   "metadata": {},
   "outputs": [],
   "source": [
    "import sys\n",
    "\n",
    "import numpy as np\n",
    "import pandas as pd\n",
    "import tensorflow as tf\n",
    "import h5py\n",
    "from scipy.io import loadmat"
   ]
  },
  {
   "cell_type": "code",
   "execution_count": 4,
   "metadata": {},
   "outputs": [],
   "source": [
    "sys.path.insert(1,'/home/tt419/Projects/DeepLearning/')\n",
    "import PhDeep.config.log_conf as log_conf\n",
    "import PhDeep.models.deepsea_fyr.model as fyr\n",
    "from PhDeep.data_loader.deepsea.data_loader import DataManager"
   ]
  },
  {
   "cell_type": "code",
   "execution_count": 5,
   "metadata": {},
   "outputs": [],
   "source": [
    "features_504 = load_features_list(\"/rds-d5/project/who1000/rds-who1000-wgs10k/user/tt419/Epigenome/output_encode_fold/encode_meta1_features.txt\")\n",
    "features_919 = load_features_list(\"/rds-d5/user/tt419/hpc-work/data-storage/DeepSea_orig_data/deepsea_train/label_names.txt\")\n",
    "features_1846 = load_features_list(\"/rds-d5/project/who1000/rds-who1000-wgs10k/user/tt419/Epigenome/Selene_data/selene_ftp_output/distinct_1846_features.txt\")"
   ]
  },
  {
   "cell_type": "code",
   "execution_count": 6,
   "metadata": {},
   "outputs": [],
   "source": [
    "train_919 = \"/home/tt419/Projects/DeepLearning/DeepSea_data/deepsea_train/train.mat\"\n",
    "test_919 = \"/home/tt419/Projects/DeepLearning/DeepSea_data/deepsea_train/test.mat\"\n",
    "valid_919 = \"/home/tt419/Projects/DeepLearning/DeepSea_data/deepsea_train/valid.mat\"\n",
    "\n",
    "data_504 = \"/rds-d5/project/who1000/rds-who1000-wgs10k/user/tt419/Epigenome/output_encode_fold/encode_meta1_sorted.bed.gz\"\n",
    "data_1846 = \"/rds-d5/project/who1000/rds-who1000-wgs10k/user/tt419/Epigenome/Selene_data/selene_ftp_output/sorted_selene_fullFeatures.bed.gz\"\n"
   ]
  },
  {
   "cell_type": "code",
   "execution_count": 7,
   "metadata": {},
   "outputs": [],
   "source": [
    "model_504_path = \"/rds-d5/project/who1000/rds-who1000-wgs10k/user/tt419/Epigenome/output_encode_fold/logs/online_sampler_outputs_503_v1_r1/best_model.pth.tar\"\n",
    "#different file-type, as it was run with TF instead of PyTorch\n",
    "model_919_path = \"/rds-d5/user/tt419/hpc-work/data-storage/PhDeep_logs/DeepSea_ckpt/modelCheckpoint-0.05066-4-99.h5\"\n",
    "model_1846_path = \"/rds-d5/project/who1000/rds-who1000-wgs10k/user/tt419/Epigenome/Selene_data/selene_ftp_output/logs/online_sampler_outputs_base/best_model.pth.tar\""
   ]
  },
  {
   "cell_type": "code",
   "execution_count": null,
   "metadata": {},
   "outputs": [],
   "source": [
    "ref_hg19 = \"/rds-d5/project/who1000/rds-who1000-wgs10k/user/tt419/Epigenome/Selene_data/selene_ftp_output/male.hg19.fasta\""
   ]
  },
  {
   "source": [
    "# Load model architectures for Selene models"
   ],
   "cell_type": "markdown",
   "metadata": {}
  },
  {
   "cell_type": "code",
   "execution_count": 8,
   "metadata": {},
   "outputs": [],
   "source": [
    "from selene_sdk.utils import NonStrandSpecific\n",
    "\n",
    "\n",
    "model_arch_504 = NonStrandSpecific(DeeperDeepSEA(2000, 504))\n",
    "model_arch_1846 = NonStrandSpecific(DeeperDeepSEA(2000, 1846))\n"
   ]
  },
  {
   "cell_type": "code",
   "execution_count": 9,
   "metadata": {},
   "outputs": [],
   "source": [
    "from selene_sdk.predict import AnalyzeSequences\n",
    "from selene_sdk.utils import load_features_list\n",
    "\n",
    "analysis_504 = AnalyzeSequences(\n",
    "    model_arch_504,\n",
    "    model_504_path,\n",
    "    sequence_length=2000,\n",
    "    features=features_504,\n",
    "    use_cuda=False)\n",
    "\n",
    "analysis_1846 = AnalyzeSequences(\n",
    "    model_arch_1846,\n",
    "    model_1846_path,\n",
    "    sequence_length=2000,\n",
    "    features=features_1846,\n",
    "    use_cuda=False)"
   ]
  },
  {
   "source": [
    "# Load model for PhDeep"
   ],
   "cell_type": "markdown",
   "metadata": {}
  },
  {
   "cell_type": "code",
   "execution_count": 10,
   "metadata": {},
   "outputs": [
    {
     "output_type": "stream",
     "name": "stdout",
     "text": [
      "Num GPUs Available: 0 ;\n namely: []\n"
     ]
    }
   ],
   "source": [
    "local = False\n",
    "load = True\n",
    "tf.debugging.set_log_device_placement(True)\n",
    "\n",
    "avail_gpus = tf.config.list_physical_devices('GPU')\n",
    "no_avail_gpus = len(tf.config.list_physical_devices('GPU'))\n",
    "print(\"Num GPUs Available: {} ;\\n namely: {}\".format(no_avail_gpus, avail_gpus))\n",
    "for gpu in avail_gpus:\n",
    "    tf.config.experimental.set_memory_growth(gpu, True)\n",
    "\n",
    "lc = log_conf.LogConfig(\"/home/tt419/Projects/DeepLearning/PhDeep/logs/\", \"DeepSea_ckpt/\")\n",
    "mm = fyr.DeepSeaModel(sub_version=0.0, log_config=lc)\n",
    "dm = DataManager()"
   ]
  },
  {
   "cell_type": "code",
   "execution_count": 11,
   "metadata": {},
   "outputs": [
    {
     "output_type": "stream",
     "name": "stdout",
     "text": [
      "set_best_checkpoint -> val: -1\n",
      "Executing op RandomUniform in device /job:localhost/replica:0/task:0/device:CPU:0\n",
      "Executing op Sub in device /job:localhost/replica:0/task:0/device:CPU:0\n",
      "Executing op Mul in device /job:localhost/replica:0/task:0/device:CPU:0\n",
      "Executing op Add in device /job:localhost/replica:0/task:0/device:CPU:0\n",
      "Executing op VarHandleOp in device /job:localhost/replica:0/task:0/device:CPU:0\n",
      "Executing op VarIsInitializedOp in device /job:localhost/replica:0/task:0/device:CPU:0\n",
      "Executing op LogicalNot in device /job:localhost/replica:0/task:0/device:CPU:0\n",
      "Executing op Assert in device /job:localhost/replica:0/task:0/device:CPU:0\n",
      "Executing op AssignVariableOp in device /job:localhost/replica:0/task:0/device:CPU:0\n",
      "Executing op Fill in device /job:localhost/replica:0/task:0/device:CPU:0\n",
      "Executing op VarHandleOp in device /job:localhost/replica:0/task:0/device:CPU:0\n",
      "Executing op VarHandleOp in device /job:localhost/replica:0/task:0/device:CPU:0\n",
      "Executing op VarHandleOp in device /job:localhost/replica:0/task:0/device:CPU:0\n",
      "Executing op VarHandleOp in device /job:localhost/replica:0/task:0/device:CPU:0\n",
      "Executing op VarHandleOp in device /job:localhost/replica:0/task:0/device:CPU:0\n",
      "Executing op VarHandleOp in device /job:localhost/replica:0/task:0/device:CPU:0\n",
      "Executing op VarHandleOp in device /job:localhost/replica:0/task:0/device:CPU:0\n",
      "Executing op VarHandleOp in device /job:localhost/replica:0/task:0/device:CPU:0\n",
      "Executing op VarHandleOp in device /job:localhost/replica:0/task:0/device:CPU:0\n",
      "Load failed, no checkpoint found\n",
      "LOADING keras model weights from: /rds-d5/user/tt419/hpc-work/data-storage/PhDeep_logs/DeepSea_ckpt/modelCheckpoint-0.05066-4-99.h5\n",
      "Executing op VarHandleOp in device /job:localhost/replica:0/task:0/device:CPU:0\n",
      "Executing op VarHandleOp in device /job:localhost/replica:0/task:0/device:CPU:0\n",
      "Executing op AssignVariableOp in device /job:localhost/replica:0/task:0/device:CPU:0\n",
      "Executing op ReadVariableOp in device /job:localhost/replica:0/task:0/device:CPU:0\n",
      "Executing op Identity in device /job:localhost/replica:0/task:0/device:CPU:0\n",
      "Executing op DestroyResourceOp in device /job:localhost/replica:0/task:0/device:CPU:0\n",
      "Model: \"model\"\n",
      "_________________________________________________________________\n",
      "Layer (type)                 Output Shape              Param #   \n",
      "=================================================================\n",
      "input_1 (InputLayer)         [(None, 1000, 4)]         0         \n",
      "_________________________________________________________________\n",
      "conv1d_1 (Conv1D)            (None, 993, 320)          10560     \n",
      "_________________________________________________________________\n",
      "max_pooling1d (MaxPooling1D) (None, 248, 320)          0         \n",
      "_________________________________________________________________\n",
      "dropout (Dropout)            (None, 248, 320)          0         \n",
      "_________________________________________________________________\n",
      "conv1d_2 (Conv1D)            (None, 241, 480)          1229280   \n",
      "_________________________________________________________________\n",
      "max_pooling1d_1 (MaxPooling1 (None, 60, 480)           0         \n",
      "_________________________________________________________________\n",
      "dropout_1 (Dropout)          (None, 60, 480)           0         \n",
      "_________________________________________________________________\n",
      "conv1d_3 (Conv1D)            (None, 53, 960)           3687360   \n",
      "_________________________________________________________________\n",
      "dropout_2 (Dropout)          (None, 53, 960)           0         \n",
      "_________________________________________________________________\n",
      "flatten (Flatten)            (None, 50880)             0         \n",
      "_________________________________________________________________\n",
      "dense_1 (Dense)              (None, 925)               47064925  \n",
      "_________________________________________________________________\n",
      "dense_2 (Dense)              (None, 919)               850994    \n",
      "=================================================================\n",
      "Total params: 52,843,119\n",
      "Trainable params: 52,843,119\n",
      "Non-trainable params: 0\n",
      "_________________________________________________________________\n"
     ]
    }
   ],
   "source": [
    "if load:\n",
    "    lc.set_best_checkpoint(mm.MODEL_VERSION)\n",
    "    if lc.BEST_CHECKPOINT == -1:\n",
    "        mm.build_model()\n",
    "        load_fp = model_919_path\n",
    "        print(\"Load failed, no checkpoint found\")\n",
    "    else:\n",
    "        load_fp = lc.CHECKPOINT_DIR + lc.BEST_CHECKPOINT\n",
    "        mm.load_model(fp=load_fp)\n",
    "        print(f\"Model loaded from {load_fp}\")\n",
    "else:\n",
    "    load_fp = None\n",
    "\n",
    "model = mm.compile_model(multi_gpu=no_avail_gpus>1 ,load_fp=load_fp)\n",
    "model.summary()"
   ]
  },
  {
   "source": [
    "# Load test data\n",
    "This data can be used for prediction and put into the \"visualize_roc_curves\" function of the utils/performance_metrics.py  "
   ],
   "cell_type": "markdown",
   "metadata": {}
  },
  {
   "cell_type": "code",
   "execution_count": null,
   "metadata": {},
   "outputs": [],
   "source": [
    "dm = DataManager()\n",
    "val_x, val_y = dm.read_val_data()"
   ]
  },
  {
   "source": [
    "### Region selection\n",
    "It is to be debated, whether the models should all be benchmarked on the same regions, or just on the same chromosomes (usually 6 & 7 or 8 & 9)"
   ],
   "cell_type": "markdown",
   "metadata": {}
  },
  {
   "cell_type": "code",
   "execution_count": null,
   "metadata": {},
   "outputs": [],
   "source": [
    "from selene_sdk.sequences import Genome\n",
    "from selene_sdk.samplers import OnlineSampler\n",
    "ref_hg19_seq = Genome(ref_hg19)\n",
    "os_504 = OnlineSampler(ref_hg19_seq, data_504, feature_504, sequence_length=2000, mode=\"validate\", save_datasets=[\"validate\"], output_dir=[]\n",
    "\n"
   ]
  }
 ]
}