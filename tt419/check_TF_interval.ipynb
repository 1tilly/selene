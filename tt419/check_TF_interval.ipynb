{
 "metadata": {
  "language_info": {
   "codemirror_mode": {
    "name": "ipython",
    "version": 3
   },
   "file_extension": ".py",
   "mimetype": "text/x-python",
   "name": "python",
   "nbconvert_exporter": "python",
   "pygments_lexer": "ipython3",
   "version": "3.7.10"
  },
  "orig_nbformat": 2,
  "kernelspec": {
   "name": "python3710jvsc74a57bd05d32409658dae9cfb02eb9d410c8759b26acd469b2308de5274da5e5ae9c776e",
   "display_name": "Python 3.7.10 64-bit ('Selene': conda)"
  },
  "metadata": {
   "interpreter": {
    "hash": "5d32409658dae9cfb02eb9d410c8759b26acd469b2308de5274da5e5ae9c776e"
   }
  }
 },
 "nbformat": 4,
 "nbformat_minor": 2,
 "cells": [
  {
   "cell_type": "code",
   "execution_count": 1,
   "metadata": {},
   "outputs": [],
   "source": [
    "import pandas as pd"
   ]
  },
  {
   "cell_type": "code",
   "execution_count": 2,
   "metadata": {},
   "outputs": [
    {
     "output_type": "stream",
     "name": "stderr",
     "text": [
      "/home/tt419/anaconda2/envs/Selene/lib/python3.7/site-packages/IPython/core/interactiveshell.py:3166: DtypeWarning: Columns (0) have mixed types.Specify dtype option on import or set low_memory=False.\n  interactivity=interactivity, compiler=compiler, result=result)\n"
     ]
    }
   ],
   "source": [
    "tf_sel = pd.read_csv(\"/rds-d5/project/who1000/rds-who1000-wgs10k/user/tt419/Epigenome/Selene_data/selene_ftp_output/TF_intervals.txt\", delimiter=\"\\t\", header=None)\n",
    "tf_ph = pd.read_csv(\"/rds-d5/project/who1000/rds-who1000-wgs10k/user/tt419/Epigenome/output_encode_fold/TF_intervals.txt\",delimiter=\"\\t\", header=None)"
   ]
  },
  {
   "cell_type": "code",
   "execution_count": 3,
   "metadata": {},
   "outputs": [
    {
     "output_type": "execute_result",
     "data": {
      "text/plain": [
       "                  1             2\n",
       "count  7.466100e+05  7.466100e+05\n",
       "mean   8.023448e+07  8.023499e+07\n",
       "std    5.676114e+07  5.676113e+07\n",
       "min    8.210000e+02  1.165000e+03\n",
       "25%    3.427536e+07  3.427577e+07\n",
       "50%    6.994604e+07  6.994659e+07\n",
       "75%    1.173641e+08  1.173645e+08\n",
       "max    2.492395e+08  2.492402e+08"
      ],
      "text/html": "<div>\n<style scoped>\n    .dataframe tbody tr th:only-of-type {\n        vertical-align: middle;\n    }\n\n    .dataframe tbody tr th {\n        vertical-align: top;\n    }\n\n    .dataframe thead th {\n        text-align: right;\n    }\n</style>\n<table border=\"1\" class=\"dataframe\">\n  <thead>\n    <tr style=\"text-align: right;\">\n      <th></th>\n      <th>1</th>\n      <th>2</th>\n    </tr>\n  </thead>\n  <tbody>\n    <tr>\n      <th>count</th>\n      <td>7.466100e+05</td>\n      <td>7.466100e+05</td>\n    </tr>\n    <tr>\n      <th>mean</th>\n      <td>8.023448e+07</td>\n      <td>8.023499e+07</td>\n    </tr>\n    <tr>\n      <th>std</th>\n      <td>5.676114e+07</td>\n      <td>5.676113e+07</td>\n    </tr>\n    <tr>\n      <th>min</th>\n      <td>8.210000e+02</td>\n      <td>1.165000e+03</td>\n    </tr>\n    <tr>\n      <th>25%</th>\n      <td>3.427536e+07</td>\n      <td>3.427577e+07</td>\n    </tr>\n    <tr>\n      <th>50%</th>\n      <td>6.994604e+07</td>\n      <td>6.994659e+07</td>\n    </tr>\n    <tr>\n      <th>75%</th>\n      <td>1.173641e+08</td>\n      <td>1.173645e+08</td>\n    </tr>\n    <tr>\n      <th>max</th>\n      <td>2.492395e+08</td>\n      <td>2.492402e+08</td>\n    </tr>\n  </tbody>\n</table>\n</div>"
     },
     "metadata": {},
     "execution_count": 3
    }
   ],
   "source": [
    "tf_sel.describe()"
   ]
  },
  {
   "cell_type": "code",
   "execution_count": 14,
   "metadata": {},
   "outputs": [],
   "source": [
    "tf_ph[\"diff\"] = tf_ph[2] -tf_ph[1]\n",
    "tf_sel[\"diff\"] = tf_sel[2] -tf_sel[1]"
   ]
  },
  {
   "cell_type": "code",
   "execution_count": 13,
   "metadata": {},
   "outputs": [
    {
     "output_type": "execute_result",
     "data": {
      "text/plain": [
       "count    852273.000000\n",
       "mean       3029.636619\n",
       "std        6296.952672\n",
       "min           1.000000\n",
       "25%         654.000000\n",
       "50%        1441.000000\n",
       "75%        3185.000000\n",
       "max      386089.000000\n",
       "Name: diff, dtype: float64"
      ]
     },
     "metadata": {},
     "execution_count": 13
    }
   ],
   "source": [
    "tf_ph[\"diff\"].describe()"
   ]
  },
  {
   "cell_type": "code",
   "execution_count": 19,
   "metadata": {},
   "outputs": [
    {
     "output_type": "execute_result",
     "data": {
      "text/plain": [
       "                  1             2           diff\n",
       "count  7.466100e+05  7.466100e+05  746610.000000\n",
       "mean   8.023448e+07  8.023499e+07     509.443025\n",
       "std    5.676114e+07  5.676113e+07     463.051163\n",
       "min    8.210000e+02  1.165000e+03      50.000000\n",
       "25%    3.427536e+07  3.427577e+07     280.000000\n",
       "50%    6.994604e+07  6.994659e+07     376.000000\n",
       "75%    1.173641e+08  1.173645e+08     596.000000\n",
       "max    2.492395e+08  2.492402e+08   24225.000000"
      ],
      "text/html": "<div>\n<style scoped>\n    .dataframe tbody tr th:only-of-type {\n        vertical-align: middle;\n    }\n\n    .dataframe tbody tr th {\n        vertical-align: top;\n    }\n\n    .dataframe thead th {\n        text-align: right;\n    }\n</style>\n<table border=\"1\" class=\"dataframe\">\n  <thead>\n    <tr style=\"text-align: right;\">\n      <th></th>\n      <th>1</th>\n      <th>2</th>\n      <th>diff</th>\n    </tr>\n  </thead>\n  <tbody>\n    <tr>\n      <th>count</th>\n      <td>7.466100e+05</td>\n      <td>7.466100e+05</td>\n      <td>746610.000000</td>\n    </tr>\n    <tr>\n      <th>mean</th>\n      <td>8.023448e+07</td>\n      <td>8.023499e+07</td>\n      <td>509.443025</td>\n    </tr>\n    <tr>\n      <th>std</th>\n      <td>5.676114e+07</td>\n      <td>5.676113e+07</td>\n      <td>463.051163</td>\n    </tr>\n    <tr>\n      <th>min</th>\n      <td>8.210000e+02</td>\n      <td>1.165000e+03</td>\n      <td>50.000000</td>\n    </tr>\n    <tr>\n      <th>25%</th>\n      <td>3.427536e+07</td>\n      <td>3.427577e+07</td>\n      <td>280.000000</td>\n    </tr>\n    <tr>\n      <th>50%</th>\n      <td>6.994604e+07</td>\n      <td>6.994659e+07</td>\n      <td>376.000000</td>\n    </tr>\n    <tr>\n      <th>75%</th>\n      <td>1.173641e+08</td>\n      <td>1.173645e+08</td>\n      <td>596.000000</td>\n    </tr>\n    <tr>\n      <th>max</th>\n      <td>2.492395e+08</td>\n      <td>2.492402e+08</td>\n      <td>24225.000000</td>\n    </tr>\n  </tbody>\n</table>\n</div>"
     },
     "metadata": {},
     "execution_count": 19
    }
   ],
   "source": [
    "tf_sel.describe()"
   ]
  },
  {
   "cell_type": "code",
   "execution_count": 18,
   "metadata": {},
   "outputs": [
    {
     "output_type": "execute_result",
     "data": {
      "text/plain": [
       "                  1             2           diff\n",
       "count  8.398690e+05  8.398690e+05  839869.000000\n",
       "mean   7.793259e+07  7.793513e+07    2542.234271\n",
       "std    5.336905e+07  5.336919e+07    3162.727054\n",
       "min    0.000000e+00  1.520000e+02      50.000000\n",
       "25%    3.353550e+07  3.353803e+07     654.000000\n",
       "50%    7.011958e+07  7.012130e+07    1424.000000\n",
       "75%    1.124709e+08  1.124745e+08    3101.000000\n",
       "max    2.492395e+08  2.492406e+08   24999.000000"
      ],
      "text/html": "<div>\n<style scoped>\n    .dataframe tbody tr th:only-of-type {\n        vertical-align: middle;\n    }\n\n    .dataframe tbody tr th {\n        vertical-align: top;\n    }\n\n    .dataframe thead th {\n        text-align: right;\n    }\n</style>\n<table border=\"1\" class=\"dataframe\">\n  <thead>\n    <tr style=\"text-align: right;\">\n      <th></th>\n      <th>1</th>\n      <th>2</th>\n      <th>diff</th>\n    </tr>\n  </thead>\n  <tbody>\n    <tr>\n      <th>count</th>\n      <td>8.398690e+05</td>\n      <td>8.398690e+05</td>\n      <td>839869.000000</td>\n    </tr>\n    <tr>\n      <th>mean</th>\n      <td>7.793259e+07</td>\n      <td>7.793513e+07</td>\n      <td>2542.234271</td>\n    </tr>\n    <tr>\n      <th>std</th>\n      <td>5.336905e+07</td>\n      <td>5.336919e+07</td>\n      <td>3162.727054</td>\n    </tr>\n    <tr>\n      <th>min</th>\n      <td>0.000000e+00</td>\n      <td>1.520000e+02</td>\n      <td>50.000000</td>\n    </tr>\n    <tr>\n      <th>25%</th>\n      <td>3.353550e+07</td>\n      <td>3.353803e+07</td>\n      <td>654.000000</td>\n    </tr>\n    <tr>\n      <th>50%</th>\n      <td>7.011958e+07</td>\n      <td>7.012130e+07</td>\n      <td>1424.000000</td>\n    </tr>\n    <tr>\n      <th>75%</th>\n      <td>1.124709e+08</td>\n      <td>1.124745e+08</td>\n      <td>3101.000000</td>\n    </tr>\n    <tr>\n      <th>max</th>\n      <td>2.492395e+08</td>\n      <td>2.492406e+08</td>\n      <td>24999.000000</td>\n    </tr>\n  </tbody>\n</table>\n</div>"
     },
     "metadata": {},
     "execution_count": 18
    }
   ],
   "source": [
    "tf_ph[(tf_ph[\"diff\"]>=50) & (tf_ph[\"diff\"]<=25000)].describe()"
   ]
  },
  {
   "cell_type": "code",
   "execution_count": 23,
   "metadata": {},
   "outputs": [],
   "source": [
    "tf_ph[(tf_ph[\"diff\"]>=50) & (tf_ph[\"diff\"]<=25000)][[0,1,2]].to_csv(\"/rds-d5/project/who1000/rds-who1000-wgs10k/user/tt419/Epigenome/output_encode_fold/TF_intervals_filtered.txt\", sep=\"\\t\", index=False )"
   ]
  },
  {
   "cell_type": "code",
   "execution_count": 27,
   "metadata": {},
   "outputs": [],
   "source": [
    "int_df = pd.merge(tf_ph, tf_sel, how ='inner', on =[0, 1,2])"
   ]
  },
  {
   "cell_type": "code",
   "execution_count": 28,
   "metadata": {},
   "outputs": [
    {
     "output_type": "execute_result",
     "data": {
      "text/plain": [
       "Empty DataFrame\n",
       "Columns: [0, 1, 2, diff_x, diff_y]\n",
       "Index: []"
      ],
      "text/html": "<div>\n<style scoped>\n    .dataframe tbody tr th:only-of-type {\n        vertical-align: middle;\n    }\n\n    .dataframe tbody tr th {\n        vertical-align: top;\n    }\n\n    .dataframe thead th {\n        text-align: right;\n    }\n</style>\n<table border=\"1\" class=\"dataframe\">\n  <thead>\n    <tr style=\"text-align: right;\">\n      <th></th>\n      <th>0</th>\n      <th>1</th>\n      <th>2</th>\n      <th>diff_x</th>\n      <th>diff_y</th>\n    </tr>\n  </thead>\n  <tbody>\n  </tbody>\n</table>\n</div>"
     },
     "metadata": {},
     "execution_count": 28
    }
   ],
   "source": [
    "int_df"
   ]
  }
 ]
}