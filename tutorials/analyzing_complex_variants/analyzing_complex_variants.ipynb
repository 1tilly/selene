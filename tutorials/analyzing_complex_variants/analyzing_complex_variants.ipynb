{
 "cells": [
  {
   "cell_type": "markdown",
   "metadata": {},
   "source": [
    "# Analyzing Complex Variants\n",
    "\n",
    "In this tutorial, we will explore some of Selene's tools for exploring and interpreting sequence predictions.\n",
    "We are generally interested in models that predict various output labels for an input biological sequence.\n",
    "For instance, we might want to predict histone marks from the DNA sequence of a human genome.\n",
    "Beyond recapitulating biological phenomena for known motifs, these models can make accurate predictions for arbitrary sequences.\n",
    "An *in silico* mutagenesis experiment uses this fact to estimate how mutations in a sequence might change our predictions for it.\n",
    "In this tutorial, we will use selene's suite of tools for *in silico* mutagenesis to predict the effects of single nucleotide polymorphisms (SNPs).\n",
    "\n",
    "**Prerequisites**\n",
    "* [Getting Started with Selene](https://selene.flatironinstitute.org/tutorials/getting_started_with_selene.html)\n",
    "* [Analyzing Mutations with Trained Models](https://selene.flatironinstitute.org/tutorials/analyzing_mutations_with_trained_models.html)\n",
    "\n",
    "## Download the data\n",
    "\n",
    "After downloading the compressed data from [here](TODO), extract it in the current directory.\n",
    "The decompressed output should include the data files `sequences.fasta`, `sequences.fasta.fai`, `variants.vcf`, and `distinct_features.txt`.\n",
    "We will analyze the genomic sequences in `sequences.fasta`.\n",
    "The second file, `sequences.fasta.fai` is a [faidx](http://www.htslib.org/doc/faidx.html) index for `sequences.fasta`.\n",
    "The third file, `variants.vcf` is a [variant call format (VCF) file](https://en.wikipedia.org/wiki/Variant_Call_Format) with a list of SNPs, insertions, and deletions.\n",
    "We will predict the effects of these variants later on in the tutorial.\n",
    "Lastly, `distinct_features.txt` contains the names of the labels predicted by the model.\n",
    "There should also be two additional files, `deepsea2.py` and `deepsea2_checkpoint.pth.tar`, containing the model class and a model checkpoint for that class.\n",
    "\n",
    "## Load the trained model\n",
    "We now build the model and load the checkpoint.\n",
    "Note that if we do not have access to a CUDA-enabled GPU, we add the `map_location` argument to the call to `torch.load`."
   ]
  },
  {
   "cell_type": "markdown",
   "metadata": {},
   "source": [
    "## Variant effect prediction\n",
    "It is common to store genomic variants in a variant call format (VCF) file.\n",
    "As such, selene supports the ability to load variants from a VCF file and use them for *in silico* mutagenesis experiments."
   ]
  },
  {
   "cell_type": "code",
   "execution_count": null,
   "metadata": {},
   "outputs": [],
   "source": [
    "analysis = AnalyzeSequences()\n",
    "analysis.variant_effect_prediction(\"variants.vcf\",\n",
    "                                   save_data=[\"diffs\", \"logits\", \"predictions\"],\n",
    "                                   indexed_fasta=\"hg38.fa\",\n",
    "                                   output_dir=\"./\")"
   ]
  },
  {
   "cell_type": "markdown",
   "metadata": {},
   "source": [
    "# KEEP THIS CODE:"
   ]
  },
  {
   "cell_type": "code",
   "execution_count": null,
   "metadata": {},
   "outputs": [],
   "source": [
    "# xticks = [x for x in ax.get_xticks() if int(x) % 5 == 0]\n",
    "# ax.set_xticks(xticks)\n",
    "# ax.set_xticklabels(map(int, xticks))\n",
    "# selene.interpret.heatmap(m, cbar=False, ax=ax)\n",
    "# selene.interpret.sequence_logo(m, ax=ax1)\n",
    "\n",
    "\n",
    "\n",
    "\n",
    "\n",
    "\n",
    "# sequence_length = 20\n",
    "# feature_matrix = ism_result.get_feature_matrix(feature_name)[:sequence_length, :]\n",
    "# reference_sequence = Genome.sequence_to_encoding(ism_result.reference_sequence)[:sequence_length, :]\n",
    "\n",
    "# figure, (ax1, ax2) = plt.subplots(2, 1, figsize=(10, 10))\n",
    "# mask=(reference_sequence > 0)\n",
    "# feature_matrix = rescale_feature_matrix(feature_matrix, base_scaling=\"max_effect\", position_scaling=\"max_effect\")\n",
    "# sequence_logo(feature_matrix, order=\"value\", ax=ax1)\n",
    "# ax1.set_xticklabels(list(ism_result.reference_sequence)[:sequence_length])\n",
    "# ax1.set_yticklabels([\"0\", r\"$1\\times10^{-3}$\",  r\"$2\\times10^{-3}$\",  r\"$3\\times10^{-3}$\", r\"$4\\times10^{-3}$\",  r\"$5\\times10^{-3}$\"])\n",
    "\n",
    "\n",
    "# cbar_kws = {\"use_gridspec\": False, \"location\": \"bottom\"}\n",
    "# heatmap(feature_matrix, mask=mask, cbar=True, ax=ax2, linewidths=0.5, cbar_kws=cbar_kws)\n",
    "# ax2.xaxis.set_label_position('top')\n",
    "# ax2.xaxis.tick_top()\n",
    "\n",
    "# sns.despine(ax=ax1, trim=True)\n",
    "# ref_mask_kwargs = dict(facecolor=\"#A1868A\")\n",
    "# ax2.patch.set(**ref_mask_kwargs)\n",
    "# ax2.collections[0].colorbar.set_ticks([0, 0.5e-3, 1e-3, 1.5e-3, 2e-3, 2.5e-3])\n",
    "# ax2.collections[0].colorbar.set_ticklabels([\"0\", r\"$5\\times10^{-4}$\",  r\"$1\\times10^{-3}$\",  r\"$1.5\\times10^{-3}$\", r\"$2\\times10^{-3}$\",  r\"$2.5\\times10^{-3}$\"])\n",
    "# ref_guide = Patch(**ref_mask_kwargs, label=\"Reference\")\n",
    "# ax2.collections[0].colorbar.ax.legend(loc=\"center left\", ncol=2, bbox_to_anchor=(-0.009, 1.7),\n",
    "#                                       handles=[ref_guide], labels=[\"Reference\"],\n",
    "#                                       fontsize=12)\n",
    "# plt.show()\n",
    "\n",
    "\n",
    "# figure, (ax1, ax2) = plt.subplots(2, 1, figsize=(10, 4), sharex=False)\n",
    "# mask=(reference_sequence > 0)\n",
    "# feature_matrix = rescale_feature_matrix(feature_matrix, base_scaling=\"max_effect\", position_scaling=\"max_effect\") - 0.001\n",
    "# sequence_logo(feature_matrix, order=\"value\", ax=ax1)\n",
    "\n",
    "# ax1.set_xticks(np.asarray(range(len(ism_result.reference_sequence)))[:sequence_length] + 0.5)\n",
    "# ax1.set_xticklabels(list(ism_result.reference_sequence)[:sequence_length])\n",
    "# ax1.axhline(0., xmin=0.5/sequence_length, xmax=(sequence_length-0.5)/sequence_length, color=\"grey\", linestyle=\"solid\")\n",
    "# sns.despine(ax=ax1, trim=True)\n",
    "# heatmap(feature_matrix, mask=mask, cbar=True, ax=ax2)\n",
    "# # heatmap(feature_matrix, mask=mask, cbar=True, ax=ax2)\n",
    "\n",
    "# # plt.tight_layout()\n",
    "# plt.show()"
   ]
  }
 ],
 "metadata": {
  "kernelspec": {
   "display_name": "Python 3",
   "language": "python",
   "name": "python3"
  },
  "language_info": {
   "codemirror_mode": {
    "name": "ipython",
    "version": 3
   },
   "file_extension": ".py",
   "mimetype": "text/x-python",
   "name": "python",
   "nbconvert_exporter": "python",
   "pygments_lexer": "ipython3",
   "version": "3.6.4"
  }
 },
 "nbformat": 4,
 "nbformat_minor": 2
}
