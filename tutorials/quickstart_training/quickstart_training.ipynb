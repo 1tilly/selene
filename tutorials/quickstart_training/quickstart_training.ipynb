{
 "cells": [
  {
   "cell_type": "markdown",
   "metadata": {},
   "source": [
    "# Quickstart to Selene\n",
    "\n",
    "This tutorial uses the same data and setup as [`getting_started_with_selene.ipynb`](../getting_started_with_selene/getting_started_with_selene.ipynb), but excludes all the background and data preparation work.\n",
    "It shows the minimal amount of code needed to run Selene itself.\n",
    "\n",
    "Just to show how we might run Selene using a slightly different model architecture with the same dataset, we use a file `./data/deeperdeepsea.py` that doubles the number of convolutional layers that DeepSEA has.\n",
    "Note that the architecture file has the same format as [`deepsea.py`](https://github.com/FunctionLab/selene/blob/master/models/deepsea.py) (it contains the model architecture class, the method `criterion`, and the method `get_optimizer(lr)`).\n",
    "\n",
    "## Download the data\n",
    "\n",
    "Download the compressed data from here:\n",
    "\n",
    "```sh\n",
    "wget https://zenodo.org/record/1319886/files/selene_quickstart_tutorial.tar.gz\n",
    "```\n",
    "\n",
    "Extract it and `mv` all files from the extracted directory `selene_quickstart_tutorial` to the current directory."
   ]
  },
  {
   "cell_type": "code",
   "execution_count": 4,
   "metadata": {},
   "outputs": [],
   "source": [
    "%matplotlib inline\n",
    "\n",
    "from selene_sdk.utils import load_path\n",
    "from selene_sdk.utils import parse_configs_and_run"
   ]
  },
  {
   "cell_type": "markdown",
   "metadata": {},
   "source": [
    "Note that these are also the only 2 lines of code in the Selene repository's command-line script [`selene_cli.py`](https://github.com/FunctionLab/selene/selene_cli.py).\n",
    "\n",
    "Before running `load_path` on `simple_train.yml`, please edit the YAML file to include the absolute path of the model file (`./data/deeperdeepsea.py` is the relative path).\n",
    "\n",
    "Currently, the model is set to train on GPU. If you do not have CUDA on your machine, please set `use_cuda` to `False` in the configuration file. (This will slow down the process considerably.)"
   ]
  },
  {
   "cell_type": "code",
   "execution_count": 5,
   "metadata": {},
   "outputs": [],
   "source": [
    "configs = load_path(\"./simple_train.yml\",\n",
    "                    # TODO: this should be the default. It is always False in our case.\n",
    "                    instantiate=False)"
   ]
  },
  {
   "cell_type": "code",
   "execution_count": null,
   "metadata": {},
   "outputs": [
    {
     "name": "stdout",
     "output_type": "stream",
     "text": [
      "Outputs and logs saved to ./training_outputs\n"
     ]
    }
   ],
   "source": [
    "parse_configs_and_run(configs, lr=0.10)"
   ]
  }
 ],
 "metadata": {
  "kernelspec": {
   "display_name": "selene-gpu",
   "language": "python",
   "name": "selene-gpu"
  },
  "language_info": {
   "codemirror_mode": {
    "name": "ipython",
    "version": 3
   },
   "file_extension": ".py",
   "mimetype": "text/x-python",
   "name": "python",
   "nbconvert_exporter": "python",
   "pygments_lexer": "ipython3",
   "version": "3.6.5"
  }
 },
 "nbformat": 4,
 "nbformat_minor": 2
}
